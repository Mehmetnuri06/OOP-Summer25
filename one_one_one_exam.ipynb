{
 "cells": [
  {
   "cell_type": "code",
   "execution_count": 1,
   "id": "46f6908c",
   "metadata": {},
   "outputs": [
    {
     "name": "stdout",
     "output_type": "stream",
     "text": [
      "Hello World\n"
     ]
    }
   ],
   "source": [
    "print(\"Hello World\")"
   ]
  },
  {
   "cell_type": "code",
   "execution_count": 7,
   "id": "5fa387f6",
   "metadata": {},
   "outputs": [
    {
     "name": "stdout",
     "output_type": "stream",
     "text": [
      "<class 'int'>\n"
     ]
    }
   ],
   "source": [
    "x = 5\n",
    "print(type(x))"
   ]
  },
  {
   "cell_type": "code",
   "execution_count": 9,
   "id": "2d9a66a9",
   "metadata": {},
   "outputs": [],
   "source": [
    "countries = ['Turkey', 'Poland' , 'China' , 'Spain']\n"
   ]
  },
  {
   "cell_type": "code",
   "execution_count": 15,
   "id": "5d4899a8",
   "metadata": {},
   "outputs": [
    {
     "name": "stdout",
     "output_type": "stream",
     "text": [
      "Turkey\n",
      "Poland\n",
      "China\n",
      "Spain\n"
     ]
    }
   ],
   "source": [
    "for c in countries:\n",
    "    print(c)\n",
    "  "
   ]
  },
  {
   "cell_type": "code",
   "execution_count": 29,
   "id": "f09d3f04",
   "metadata": {},
   "outputs": [
    {
     "name": "stdout",
     "output_type": "stream",
     "text": [
      "This is my country\n"
     ]
    }
   ],
   "source": [
    "country = \"Turkey\"\n",
    "\n",
    "if country == \"Turkey\" :\n",
    "   print('This is my country')\n"
   ]
  },
  {
   "cell_type": "code",
   "execution_count": 26,
   "id": "fdeaca95",
   "metadata": {},
   "outputs": [],
   "source": [
    "class animal:\n",
    "    def __init__(self,name,age):\n",
    "       self.name = \"Gorilla\"\n",
    "       self.age = \"5\""
   ]
  },
  {
   "cell_type": "code",
   "execution_count": 30,
   "id": "7e50a41e",
   "metadata": {},
   "outputs": [],
   "source": [
    "animal1 = animal(\"gorilla\" , 4)\n",
    "animal2 = animal(\"lion\" , 4)"
   ]
  },
  {
   "cell_type": "code",
   "execution_count": null,
   "id": "999d5009",
   "metadata": {},
   "outputs": [],
   "source": []
  }
 ],
 "metadata": {
  "kernelspec": {
   "display_name": "Python 3",
   "language": "python",
   "name": "python3"
  },
  "language_info": {
   "codemirror_mode": {
    "name": "ipython",
    "version": 3
   },
   "file_extension": ".py",
   "mimetype": "text/x-python",
   "name": "python",
   "nbconvert_exporter": "python",
   "pygments_lexer": "ipython3",
   "version": "3.12.1"
  }
 },
 "nbformat": 4,
 "nbformat_minor": 5
}
