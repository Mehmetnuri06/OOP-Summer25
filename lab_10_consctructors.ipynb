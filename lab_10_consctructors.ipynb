{
 "cells": [
  {
   "cell_type": "code",
   "execution_count": 1,
   "id": "0345caac",
   "metadata": {},
   "outputs": [],
   "source": [
    "class Animal:\n",
    "  def __init__(self):\n",
    "      print(\"New Animal\")\n",
    "my_animal = Animal      "
   ]
  },
  {
   "cell_type": "code",
   "execution_count": 2,
   "id": "bafa9235",
   "metadata": {},
   "outputs": [],
   "source": [
    "class Animal:\n",
    "    def __init__(self, type, color, age, number_of_legs):\n",
    "        self.type = type\n",
    "        self.color = color\n",
    "        self.age = age\n",
    "        self.number_of_legs = number_of_legs\n",
    "a1 = Animal(\"gorilla\",\"Black\", 5 , 2) \n",
    "a2 = Animal(\"lion\", \"Yellow\", 7, 4 )   \n",
    "a3 = Animal(\"Giraffe\", \"Brown\", 10 , 4)"
   ]
  },
  {
   "cell_type": "code",
   "execution_count": 3,
   "id": "de19e12c",
   "metadata": {},
   "outputs": [],
   "source": [
    "class Car:\n",
    "    def __init__(self, brand, model):\n",
    "        self.brand = brand\n",
    "        self.model = model\n",
    "a1= Car(\"Audi\", \"A4\")        \n",
    "a2= Car(\"Bmw\",\"i7\")\n",
    "a3= Car(\"Ferrari\", \"Spider\")"
   ]
  },
  {
   "cell_type": "markdown",
   "id": "0e861920",
   "metadata": {},
   "source": [
    "## Task for extra point - complex constructor"
   ]
  },
  {
   "cell_type": "code",
   "execution_count": 5,
   "id": "56988772",
   "metadata": {},
   "outputs": [],
   "source": [
    "class House:\n",
    "    def __init__(self, location, floors, furnitures):\n",
    "        self.location = location\n",
    "        self.floors = floors\n",
    "        self.furnitures = furnitures\n",
    "h1= House({'Country': 'Spain',\n",
    "           'City'  : 'Santander',\n",
    "           'Street': 'El danzo'},4,\"Bed,Table\")\n",
    "h2= House({'Country': 'China',\n",
    "           'City'  : 'Beijing',\n",
    "           'Street': 'dzinxou'},34,\"Tub,Computer\")"
   ]
  },
  {
   "cell_type": "code",
   "execution_count": null,
   "id": "2bcc1942",
   "metadata": {},
   "outputs": [],
   "source": []
  }
 ],
 "metadata": {
  "kernelspec": {
   "display_name": "Python 3",
   "language": "python",
   "name": "python3"
  },
  "language_info": {
   "codemirror_mode": {
    "name": "ipython",
    "version": 3
   },
   "file_extension": ".py",
   "mimetype": "text/x-python",
   "name": "python",
   "nbconvert_exporter": "python",
   "pygments_lexer": "ipython3",
   "version": "3.12.1"
  }
 },
 "nbformat": 4,
 "nbformat_minor": 5
}
