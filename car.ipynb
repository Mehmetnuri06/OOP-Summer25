{
  "metadata": {
    "kernelspec": {
      "name": "python",
      "display_name": "Python (Pyodide)",
      "language": "python"
    },
    "language_info": {
      "codemirror_mode": {
        "name": "python",
        "version": 3
      },
      "file_extension": ".py",
      "mimetype": "text/x-python",
      "name": "python",
      "nbconvert_exporter": "python",
      "pygments_lexer": "ipython3",
      "version": "3.8"
    }
  },
  "nbformat_minor": 5,
  "nbformat": 4,
  "cells": [
    {
      "id": "e755244e-6238-4cb6-8c87-9a94b2b4deea",
      "cell_type": "markdown",
      "source": "### Definiton of Dictionary",
      "metadata": {}
    },
    {
      "id": "d17698bc-fdfa-4f1e-b33e-dfc8f7847bb7",
      "cell_type": "code",
      "source": "car1={\n  \"brand\":\"Audi\",\n  \"model\":\"A4\",\n  \"year\":2013,\n  \"type\":\"Sedan\",\n  \"color\":\"Black\",\n}",
      "metadata": {
        "trusted": true
      },
      "outputs": [],
      "execution_count": 41
    },
    {
      "id": "c79b0bc2-71ce-495c-8b1e-0ff1453a96bc",
      "cell_type": "code",
      "source": "car2={\n  \"brand\":\"McLaren\",\n  \"model\":\"Speedtail\",\n  \"year\":2020,\n  \"type\":\"Sedan\",\n  \"color\":\"Grey\",\n}",
      "metadata": {
        "trusted": true
      },
      "outputs": [],
      "execution_count": 5
    },
    {
      "id": "2baf38d5-4002-4b2a-9547-f8bedcc5e711",
      "cell_type": "code",
      "source": "car3={\n  \"brand\":\"Ferrari\",\n  \"model\":\"Spider\",\n  \"year\":2020,\n  \"type\":\"Sport\",\n  \"color\":\"Red\",\n}",
      "metadata": {
        "trusted": true
      },
      "outputs": [],
      "execution_count": 6
    },
    {
      "id": "a2ce8a44-8a57-4d24-b7f9-fa2b752c6b62",
      "cell_type": "markdown",
      "source": "### Read Values for car1",
      "metadata": {}
    },
    {
      "id": "d06c064a-2358-4c59-8c83-7f9841cf80dc",
      "cell_type": "code",
      "source": "print(car1)",
      "metadata": {
        "trusted": true
      },
      "outputs": [
        {
          "name": "stdout",
          "output_type": "stream",
          "text": "{'brand': 'Audi', 'model': 'A4', 'year': 2013, 'type': 'Sedan', 'color': 'Black'}\n"
        }
      ],
      "execution_count": 42
    },
    {
      "id": "3ef85a80-0dbf-43d1-b60c-c76a72a6695e",
      "cell_type": "code",
      "source": "",
      "metadata": {
        "trusted": true
      },
      "outputs": [],
      "execution_count": null
    },
    {
      "id": "d97442dd-99a8-4ab5-9f74-7b618ce070c3",
      "cell_type": "code",
      "source": "car1=[\"Year\"]",
      "metadata": {
        "trusted": true
      },
      "outputs": [],
      "execution_count": 34
    },
    {
      "id": "a2251a6e-5130-4e69-a7b7-fb714ea60a0d",
      "cell_type": "code",
      "source": "2013",
      "metadata": {
        "trusted": true,
        "scrolled": true
      },
      "outputs": [
        {
          "execution_count": 11,
          "output_type": "execute_result",
          "data": {
            "text/plain": "2013"
          },
          "metadata": {}
        }
      ],
      "execution_count": 11
    },
    {
      "id": "cb2cec74-1a0b-47e0-b7cb-10840678ca8a",
      "cell_type": "code",
      "source": "car1=[\"type]",
      "metadata": {
        "trusted": true
      },
      "outputs": [
        {
          "ename": "<class 'SyntaxError'>",
          "evalue": "unterminated string literal (detected at line 1) (<ipython-input-12-3bdd8ad396d0>, line 1)",
          "traceback": [
            "\u001b[0;36m  Cell \u001b[0;32mIn[12], line 1\u001b[0;36m\u001b[0m\n\u001b[0;31m    car1=[\"type]\u001b[0m\n\u001b[0m          ^\u001b[0m\n\u001b[0;31mSyntaxError\u001b[0m\u001b[0;31m:\u001b[0m unterminated string literal (detected at line 1)\n"
          ],
          "output_type": "error"
        }
      ],
      "execution_count": 12
    },
    {
      "id": "0778f815-59d8-40be-9549-826cdbb14709",
      "cell_type": "code",
      "source": "'Sedan'",
      "metadata": {
        "trusted": true
      },
      "outputs": [
        {
          "execution_count": 13,
          "output_type": "execute_result",
          "data": {
            "text/plain": "'Sedan'"
          },
          "metadata": {}
        }
      ],
      "execution_count": 13
    },
    {
      "id": "4d6ee8c5-f9b3-46cc-8f7b-4f8feb8a274a",
      "cell_type": "code",
      "source": "car1=[\"Color\"]",
      "metadata": {
        "trusted": true
      },
      "outputs": [],
      "execution_count": 14
    },
    {
      "id": "1f669ce0-feb6-4e8c-8a1f-e088098a45db",
      "cell_type": "code",
      "source": "'Black'",
      "metadata": {
        "trusted": true
      },
      "outputs": [
        {
          "execution_count": 15,
          "output_type": "execute_result",
          "data": {
            "text/plain": "'Black'"
          },
          "metadata": {}
        }
      ],
      "execution_count": 15
    },
    {
      "id": "c0b1fcb2-03ca-4acc-b28b-1f5131fdc860",
      "cell_type": "markdown",
      "source": "### Read Values for car2",
      "metadata": {}
    },
    {
      "id": "353b2e79-d62b-4540-940a-a3eac83c71d6",
      "cell_type": "code",
      "source": "car2=[\"brand\"]",
      "metadata": {
        "trusted": true
      },
      "outputs": [],
      "execution_count": 26
    },
    {
      "id": "338f0aae-1688-4b95-9b5a-c03d8f620372",
      "cell_type": "code",
      "source": "\"McLaren\"\n",
      "metadata": {
        "trusted": true
      },
      "outputs": [
        {
          "execution_count": 11,
          "output_type": "execute_result",
          "data": {
            "text/plain": "'McLaren'"
          },
          "metadata": {}
        }
      ],
      "execution_count": 11
    },
    {
      "id": "d2de68cb-70af-4041-9b78-a7b20c134552",
      "cell_type": "code",
      "source": "car2=[\"year\"]",
      "metadata": {
        "trusted": true
      },
      "outputs": [],
      "execution_count": 7
    },
    {
      "id": "c9d42687-b12e-45f9-86e3-c761f3d96776",
      "cell_type": "code",
      "source": "2020",
      "metadata": {
        "trusted": true
      },
      "outputs": [
        {
          "execution_count": 10,
          "output_type": "execute_result",
          "data": {
            "text/plain": "2020"
          },
          "metadata": {}
        }
      ],
      "execution_count": 10
    },
    {
      "id": "6d6efe62-8daa-4234-a9cb-5de28041c431",
      "cell_type": "code",
      "source": "car2=[\"type\"]",
      "metadata": {
        "trusted": true
      },
      "outputs": [],
      "execution_count": 8
    },
    {
      "id": "35ccbd46-acf2-45ab-9ffe-7d931e0c1fba",
      "cell_type": "code",
      "source": "'Sedan'",
      "metadata": {
        "trusted": true
      },
      "outputs": [
        {
          "execution_count": 20,
          "output_type": "execute_result",
          "data": {
            "text/plain": "'Sedan'"
          },
          "metadata": {}
        }
      ],
      "execution_count": 20
    },
    {
      "id": "11543c51-76e4-40e4-9853-1df58653335a",
      "cell_type": "code",
      "source": "car2=[\"color\"]",
      "metadata": {
        "trusted": true
      },
      "outputs": [],
      "execution_count": 12
    },
    {
      "id": "66003c5f-9270-4ba4-9220-3a50f27a578e",
      "cell_type": "code",
      "source": "\"Grey\"",
      "metadata": {
        "trusted": true
      },
      "outputs": [
        {
          "execution_count": 21,
          "output_type": "execute_result",
          "data": {
            "text/plain": "'Grey'"
          },
          "metadata": {}
        }
      ],
      "execution_count": 21
    },
    {
      "id": "6f43862e-3a20-4015-9181-a31a27d6fb94",
      "cell_type": "markdown",
      "source": "## Read Values for car3",
      "metadata": {}
    },
    {
      "id": "2030043e-a35c-4499-8065-7bc0fa466a02",
      "cell_type": "code",
      "source": "car3=[\"Brand\"]",
      "metadata": {
        "trusted": true
      },
      "outputs": [],
      "execution_count": 14
    },
    {
      "id": "ad3a539b-df02-4982-a976-cdbc129359fa",
      "cell_type": "code",
      "source": "'Ferrari'",
      "metadata": {
        "trusted": true
      },
      "outputs": [
        {
          "execution_count": 17,
          "output_type": "execute_result",
          "data": {
            "text/plain": "'Ferrari'"
          },
          "metadata": {}
        }
      ],
      "execution_count": 17
    },
    {
      "id": "061974bf-a189-40be-b5ff-586b71057647",
      "cell_type": "code",
      "source": "car3=[\"model\"]",
      "metadata": {
        "trusted": true
      },
      "outputs": [],
      "execution_count": 15
    },
    {
      "id": "a03fec2b-c1bf-42ca-9afd-17d67e671c31",
      "cell_type": "code",
      "source": "'Spider'",
      "metadata": {
        "trusted": true
      },
      "outputs": [
        {
          "execution_count": 18,
          "output_type": "execute_result",
          "data": {
            "text/plain": "'Spider'"
          },
          "metadata": {}
        }
      ],
      "execution_count": 18
    },
    {
      "id": "9411a769-35f4-4237-8686-e9346fadd51e",
      "cell_type": "code",
      "source": "car3=[\"year\"]",
      "metadata": {
        "trusted": true
      },
      "outputs": [],
      "execution_count": null
    },
    {
      "id": "c8d1ac6e-461a-42a2-908d-11376e2710cc",
      "cell_type": "code",
      "source": "2020",
      "metadata": {
        "trusted": true
      },
      "outputs": [
        {
          "execution_count": 19,
          "output_type": "execute_result",
          "data": {
            "text/plain": "2020"
          },
          "metadata": {}
        }
      ],
      "execution_count": 19
    },
    {
      "id": "3ec5c849-81ef-48ba-9ac7-cd565a4ca2f4",
      "cell_type": "code",
      "source": "car3=[\"type\"]",
      "metadata": {
        "trusted": true
      },
      "outputs": [],
      "execution_count": null
    },
    {
      "id": "3d832fe8-8da7-4b57-83ba-f2277183d1a6",
      "cell_type": "code",
      "source": "\"Sport\"",
      "metadata": {
        "trusted": true
      },
      "outputs": [
        {
          "execution_count": 24,
          "output_type": "execute_result",
          "data": {
            "text/plain": "'Sport'"
          },
          "metadata": {}
        }
      ],
      "execution_count": 24
    },
    {
      "id": "fe4e6886-97f6-4022-ab1d-3fa05275fa92",
      "cell_type": "code",
      "source": "car3=[\"color\"]",
      "metadata": {
        "trusted": true
      },
      "outputs": [],
      "execution_count": 31
    },
    {
      "id": "9258fe53-8000-4c92-8e63-9788ad402e89",
      "cell_type": "code",
      "source": "'Red'",
      "metadata": {
        "trusted": true
      },
      "outputs": [
        {
          "execution_count": 32,
          "output_type": "execute_result",
          "data": {
            "text/plain": "'Red'"
          },
          "metadata": {}
        }
      ],
      "execution_count": 32
    },
    {
      "id": "99d5f107-6cdf-48ec-925b-865b766c826e",
      "cell_type": "markdown",
      "source": "### Set Values for car1",
      "metadata": {}
    },
    {
      "id": "313a4374-08f4-4817-92f5-9af5be04cd49",
      "cell_type": "code",
      "source": "car1[\"brand\"]=\"Audi\"",
      "metadata": {
        "trusted": true
      },
      "outputs": [
        {
          "ename": "<class 'TypeError'>",
          "evalue": "list indices must be integers or slices, not str",
          "traceback": [
            "\u001b[0;31m---------------------------------------------------------------------------\u001b[0m",
            "\u001b[0;31mTypeError\u001b[0m                                 Traceback (most recent call last)",
            "Cell \u001b[0;32mIn[28], line 1\u001b[0m\n\u001b[0;32m----> 1\u001b[0m \u001b[43mcar1\u001b[49m\u001b[43m[\u001b[49m\u001b[38;5;124;43m\"\u001b[39;49m\u001b[38;5;124;43mbrand\u001b[39;49m\u001b[38;5;124;43m\"\u001b[39;49m\u001b[43m]\u001b[49m\u001b[38;5;241m=\u001b[39m\u001b[38;5;124m\"\u001b[39m\u001b[38;5;124mAudi\u001b[39m\u001b[38;5;124m\"\u001b[39m\n",
            "\u001b[0;31mTypeError\u001b[0m: list indices must be integers or slices, not str"
          ],
          "output_type": "error"
        }
      ],
      "execution_count": 28
    },
    {
      "id": "233638f9-9d6f-4dc2-b102-739d78f5b8a4",
      "cell_type": "code",
      "source": "x = 3",
      "metadata": {
        "trusted": true
      },
      "outputs": [],
      "execution_count": 43
    },
    {
      "id": "ee37a647-d120-4c96-af6d-8fc809089482",
      "cell_type": "code",
      "source": "y =  [\"A\" , \"b\" , \"C\"]",
      "metadata": {
        "trusted": true
      },
      "outputs": [],
      "execution_count": 44
    },
    {
      "id": "8598b876-2e18-417d-a809-17241a245320",
      "cell_type": "code",
      "source": "print(y[0])",
      "metadata": {
        "trusted": true
      },
      "outputs": [],
      "execution_count": null
    }
  ]
}