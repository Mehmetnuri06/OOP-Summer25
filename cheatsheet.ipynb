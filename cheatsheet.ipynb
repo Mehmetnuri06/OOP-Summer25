{
  "metadata": {
    "kernelspec": {
      "name": "python",
      "display_name": "Python (Pyodide)",
      "language": "python"
    },
    "language_info": {
      "codemirror_mode": {
        "name": "python",
        "version": 3
      },
      "file_extension": ".py",
      "mimetype": "text/x-python",
      "name": "python",
      "nbconvert_exporter": "python",
      "pygments_lexer": "ipython3",
      "version": "3.8"
    }
  },
  "nbformat_minor": 5,
  "nbformat": 4,
  "cells": [
    {
      "id": "03955196-f49b-4038-b931-e3973e893e46",
      "cell_type": "code",
      "source": "print('Hello')",
      "metadata": {
        "trusted": true
      },
      "outputs": [
        {
          "name": "stdout",
          "output_type": "stream",
          "text": "Hello\n"
        }
      ],
      "execution_count": 1
    },
    {
      "id": "871d0786-1596-4fb6-984e-77c2542c9bfa",
      "cell_type": "markdown",
      "source": "## Python cheetsheat",
      "metadata": {}
    },
    {
      "id": "f4ae7fd6-cc00-4bb7-99b0-d17b12d866ca",
      "cell_type": "markdown",
      "source": "### variables",
      "metadata": {}
    },
    {
      "id": "302f63e4-d3cc-4b41-9cb2-a21d74efa11c",
      "cell_type": "markdown",
      "source": "## x = 10",
      "metadata": {}
    },
    {
      "id": "2d5aaac2-f7a0-484a-a2d1-7ef4623d26bd",
      "cell_type": "code",
      "source": "Y = 'Hello my name is Mehmet'",
      "metadata": {
        "trusted": true
      },
      "outputs": [],
      "execution_count": null
    },
    {
      "id": "9cc9e9dd-9346-4a03-bcd0-85669a33a233",
      "cell_type": "markdown",
      "source": "Data Types",
      "metadata": {}
    },
    {
      "id": "72f4f0c1-6bfc-4e31-ad4a-0e85212124a9",
      "cell_type": "code",
      "source": "x = 1 # integer",
      "metadata": {
        "trusted": true
      },
      "outputs": [],
      "execution_count": null
    },
    {
      "id": "99d53fc7-ffa8-40f7-83b1-e916483e5207",
      "cell_type": "code",
      "source": "type = x",
      "metadata": {
        "trusted": true
      },
      "outputs": [],
      "execution_count": null
    },
    {
      "id": "df5ba21f-cca2-433c-84a6-f92ec161ead3",
      "cell_type": "code",
      "source": "int",
      "metadata": {
        "trusted": true
      },
      "outputs": [],
      "execution_count": null
    },
    {
      "id": "c59abade-ac61-45a9-8aea-8667fdb9ea0e",
      "cell_type": "code",
      "source": "y = 'Mehmet\ntype(y)",
      "metadata": {
        "trusted": true
      },
      "outputs": [],
      "execution_count": null
    },
    {
      "id": "71eafadc-86ad-46ce-b6e3-30f9bb030287",
      "cell_type": "markdown",
      "source": "strings",
      "metadata": {}
    },
    {
      "id": "726a6650-3fa8-45e9-8eaf-77e5bb57a106",
      "cell_type": "code",
      "source": "print(\"Hello\")",
      "metadata": {
        "trusted": true
      },
      "outputs": [],
      "execution_count": null
    },
    {
      "id": "89444f46-6e53-4ee9-b23e-791879ba5fc0",
      "cell_type": "markdown",
      "source": "Multiline Strings",
      "metadata": {}
    },
    {
      "id": "7de0bc8c-b2c3-4f53-9a80-b20914ebf4df",
      "cell_type": "code",
      "source": "a = \"\"\"Lorem ipsum dolor sit amet,\nconsectetur adipiscing elit,\nsed do eiusmod tempor incididunt\nut labore et dolore magna aliqua.\"\"\"\nprint(a)",
      "metadata": {
        "trusted": true
      },
      "outputs": [],
      "execution_count": null
    },
    {
      "id": "51e41848-f46a-4ab2-9c07-aabed789a430",
      "cell_type": "code",
      "source": "",
      "metadata": {
        "trusted": true
      },
      "outputs": [],
      "execution_count": null
    },
    {
      "id": "959951c3-197b-4cd6-bd44-dd13eb87ef28",
      "cell_type": "code",
      "source": "",
      "metadata": {
        "trusted": true
      },
      "outputs": [],
      "execution_count": null
    }
  ]
}